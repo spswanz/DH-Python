{
 "cells": [
  {
   "cell_type": "markdown",
   "metadata": {
    "Collapsed": "false"
   },
   "source": [
    "# Introduction to Python for Humanists\n",
    "\n",
    "In this lesson, we'll provide a brief introduction to using Python for some common tasks that humanists encounter when working with data."
   ]
  },
  {
   "cell_type": "markdown",
   "metadata": {
    "Collapsed": "false"
   },
   "source": [
    "## Jupyter Notebooks and Literate Programming\n",
    "\n",
    "We are using something called a Jupyter notebook, which provides an integrated environment that combines human-readable text and computer-readable coding blocks.\n",
    "\n",
    "Jupyter notebooks allow you to do any or all of the following:\n",
    "- Write and execute your code in the browser\n",
    "- Display the results of your analysis in a table or visualization\n",
    "- Interweave your code with narrative to give it context or explain your thought process\n",
    "- Output the notebook to static webpage, pdf, slideshow, etc.\n",
    "\n",
    "Jupyter notebooks are a valuable tool for creating a literate programming environment.[<sup>1</sup>](#fn1) It also allows you to document your research methods in order to produce publishable and reproducible results for peer review.\n",
    "\n",
    "While some of the methods described below might be achieved in Excel, using a Jupyter notebook environment provides a better way to document your thought process and save your processing steps. That way, when you add new data, you don't have to remember all the earlier steps you took to clean your data. Or if a new researcher joins your team, she can easily follow along and understand what is happening. \n",
    "\n",
    "[<sup>1</sup>](#fn1) <span id=\"fn1\">You can learn more about the literate programming paradigm and how to install and use Jupyter notebooks at this tutorial from the Programming Historian: https://programminghistorian.org/en/lessons/jupyter-notebooks.</span> \n",
    "\n",
    "\n",
    "\n",
    "\n"
   ]
  },
  {
   "cell_type": "markdown",
   "metadata": {
    "Collapsed": "false"
   },
   "source": [
    "## Using the Jupyter Notebook\n",
    "\n",
    "A notebook is made up of a series of cells (like paragraphs). There are two main types: a code cell and a Markdown cell.\n",
    "\n",
    "### Code Cells\n",
    "\n",
    "Code cells consist of code snippets and the program can run and execute the code. You'll see a `[ ]:` to the left of the cell. This will tell you that the cell has code to run. After you've run the cell, you'll see a number `[1]:` that gives what order the cell was run in.  \n",
    "\n",
    "To run the code in a cell block, you can do one of the following:\n",
    "- press shift + enter, or\n",
    "- click the <i class=\"fa-step-forward fa\"></i> run button in the toobar at the top of the page\n",
    "\n",
    "The notebook will remember the code that you ran earlier and save any variables you created. If you want to re-run a cell, you can do so. Or you can re-run the whole notebook from the beginning. \n",
    "\n",
    "### Markdown Cells\n",
    "\n",
    "Markdown cells are where you add your narrative (like this one). Markdown is a lightweight syntax for formatting your text. Some digital humanists prefer to take notes in a text editor using Markdown. You can learn more about writing in Markdown here: https://daringfireball.net/projects/markdown/syntax.   \n",
    "\n",
    "### If you get stuck\n",
    "\n",
    "Sometimes the notebook just gets stuck. If that happens, go `Kernel` in the menu bar and select `Restart Kernel and Clear All Outputs`. The notebook will reset and you'll have to rerun the cells. "
   ]
  },
  {
   "cell_type": "markdown",
   "metadata": {
    "Collapsed": "false"
   },
   "source": [
    "## Your first code\n",
    "\n",
    "Type this phrase in the code cell below.\n",
    "\n",
    "`print('Hello world')`\n",
    "\n",
    "then run the cell -- [remember: shift + enter or the <i class=\"fa-step-forward fa\"></i> run button in the toolbar]\n",
    "\n",
    "and you'll see the results printed immediately below the code cell block."
   ]
  },
  {
   "cell_type": "code",
   "execution_count": null,
   "metadata": {
    "Collapsed": "false"
   },
   "outputs": [],
   "source": [
    "print(\"Hello world\")"
   ]
  },
  {
   "cell_type": "markdown",
   "metadata": {
    "Collapsed": "false"
   },
   "source": [
    "Anything within quotation marks (single or double is fine) is interpreted by Python as a string (text). Python also recognizes numerical values, such as integers (whole numbers) and floats (decimal numbers). Try this, and see if you can predict what will happen:\n",
    "\n",
    "`print(1+3)`\n",
    "\n",
    "`print('1+3')` "
   ]
  },
  {
   "cell_type": "code",
   "execution_count": null,
   "metadata": {
    "Collapsed": "false"
   },
   "outputs": [],
   "source": [
    "print(1+3)\n",
    "print(\"1+3\")"
   ]
  },
  {
   "cell_type": "markdown",
   "metadata": {
    "Collapsed": "false"
   },
   "source": [
    "In the first case, Python performed the mathematical calculation and output the result. In the second one, the quotations marks told Python to interpret it as a string and it output the characters between the quotations marks.\n",
    "\n",
    "You can also add strings together. For example, you have a first names column and a last names column and you want to make a single full names column."
   ]
  },
  {
   "cell_type": "code",
   "execution_count": null,
   "metadata": {
    "Collapsed": "false"
   },
   "outputs": [],
   "source": [
    "first_name = \"Cornelius\"\n",
    "last_name = \"Vanderbilt\"\n",
    "\n",
    "full_name = first_name + \" \" + last_name \n",
    "\n",
    "print(full_name)"
   ]
  },
  {
   "cell_type": "markdown",
   "metadata": {
    "Collapsed": "false"
   },
   "source": [
    "Sometimes you have full names and you want to split them into first and last names. You can do that too. This is very useful when you want to alphabetize a list of names written first name, last name."
   ]
  },
  {
   "cell_type": "code",
   "execution_count": null,
   "metadata": {
    "Collapsed": "false"
   },
   "outputs": [],
   "source": [
    "full_name = \"Cornelius Vanderbilt\"\n",
    "\n",
    "first_name = full_name.split()[0]\n",
    "last_name = full_name.split()[1]\n",
    "\n",
    "print(first_name)\n",
    "print(last_name)"
   ]
  },
  {
   "cell_type": "markdown",
   "metadata": {
    "Collapsed": "false"
   },
   "source": [
    "## Working with Variables\n",
    "\n",
    "You can assign values to variables and manipulate them in functions.\n",
    "\n",
    "In the following code cell, we assign the `name` variable a string. Then we tell Python to retrieve that variable to complete the sentence.\n"
   ]
  },
  {
   "cell_type": "code",
   "execution_count": null,
   "metadata": {
    "Collapsed": "false"
   },
   "outputs": [],
   "source": [
    "name = \"Cornelius\"\n",
    "print(\"My name is \" + name + \".\")"
   ]
  },
  {
   "cell_type": "markdown",
   "metadata": {
    "Collapsed": "false"
   },
   "source": [
    "If we make this a function, we can call the function repeatedly with different variables."
   ]
  },
  {
   "cell_type": "code",
   "execution_count": null,
   "metadata": {
    "Collapsed": "false"
   },
   "outputs": [],
   "source": [
    "name1 = \"Cornelius\"\n",
    "name2 = \"Gloria\"\n",
    "\n",
    "def print_name(name):\n",
    "    print(\"My name is \" + name + \".\")\n",
    "    \n",
    "print_name(name1)\n",
    "print_name(name2)\n",
    "    \n"
   ]
  },
  {
   "cell_type": "markdown",
   "metadata": {
    "Collapsed": "false"
   },
   "source": [
    "Let's try some math.\n",
    "\n",
    "Go ahead and run the code cell below and feel free to change the var variable and see what happens.  Or change the math operand."
   ]
  },
  {
   "cell_type": "code",
   "execution_count": null,
   "metadata": {
    "Collapsed": "false"
   },
   "outputs": [],
   "source": [
    "var = 20\n",
    "def double_it(var):\n",
    "    return var*2\n",
    "\n",
    "double_it(var)"
   ]
  },
  {
   "cell_type": "markdown",
   "metadata": {
    "Collapsed": "false"
   },
   "source": [
    "## How might you use this?\n",
    "\n",
    "Let's say you have list of birth and death dates for several hundred people and you want to calculate their age upon death because you are analyzing life expectancy. You might have a spreadsheet that looks something like this:\n",
    "\n",
    "| Name | Birth | Death |\n",
    "|------|-------|-----|\n",
    "|Amy|1822|1863|\n",
    "|Ben|1847|1902|\n",
    "|Chet|1835|1837|\n",
    "\n",
    "\n",
    "First we will want to import our dataset into our notebook. We do this using the csv library (or package) - an add-on for Python that simplifies our task. Another library will want is pandas, which helps us create tables (or dataframes) with the rows and columns of our csv file.\n"
   ]
  },
  {
   "cell_type": "code",
   "execution_count": null,
   "metadata": {
    "Collapsed": "false"
   },
   "outputs": [],
   "source": [
    "import csv\n",
    "import pandas as pd\n",
    "\n",
    "# this will import my file called \"demo.csv\" that is in the same file directory as my notebook\n",
    "# and assign it to the pandas dataframe variable named \"df\"\n",
    "df = pd.read_csv(\"demo.csv\")  \n",
    "df"
   ]
  },
  {
   "cell_type": "markdown",
   "metadata": {
    "Collapsed": "false"
   },
   "source": [
    "We want to tell Python to add a new column for Age and then for each name, calculate the age."
   ]
  },
  {
   "cell_type": "code",
   "execution_count": null,
   "metadata": {
    "Collapsed": "false"
   },
   "outputs": [],
   "source": [
    "df[\"Age\"] = df['Death'] - df['Birth'] \n",
    "df\n"
   ]
  },
  {
   "cell_type": "markdown",
   "metadata": {
    "Collapsed": "false"
   },
   "source": [
    "You can imagine how fast this is for a list of hundreds or thousands of names.\n"
   ]
  },
  {
   "cell_type": "markdown",
   "metadata": {
    "Collapsed": "false"
   },
   "source": [
    "## Basic Data Analysis\n",
    "\n",
    "Now let's do some data analyis. Let' have it compute the average age."
   ]
  },
  {
   "cell_type": "code",
   "execution_count": null,
   "metadata": {
    "Collapsed": "false"
   },
   "outputs": [],
   "source": [
    "number_list = df[\"Age\"] \n",
    "avg = sum(number_list)/len(number_list)\n",
    "\n",
    "print(\"The average life expectancy is \", round(avg,2))"
   ]
  },
  {
   "cell_type": "markdown",
   "metadata": {
    "Collapsed": "false"
   },
   "source": [
    "Or we want to find out all the people born before 1840:"
   ]
  },
  {
   "cell_type": "code",
   "execution_count": null,
   "metadata": {
    "Collapsed": "false"
   },
   "outputs": [],
   "source": [
    "pre_1840 = df.loc[df['Birth'] < 1840]\n",
    "pre_1840"
   ]
  },
  {
   "cell_type": "markdown",
   "metadata": {
    "Collapsed": "false"
   },
   "source": [
    "Q: Write the code to identify those who died after 1860"
   ]
  },
  {
   "cell_type": "code",
   "execution_count": null,
   "metadata": {
    "Collapsed": "false"
   },
   "outputs": [],
   "source": [
    "# Write your code below this line\n"
   ]
  },
  {
   "cell_type": "markdown",
   "metadata": {
    "Collapsed": "false"
   },
   "source": [
    "Let's say we have painstakingly accumulated data about all the passengers on the Titanic into a spreadsheet and we would like to do some data analysis about our passenger list. (The Titanic passenger list is a commonly used dataset in beginner data science classes and the full list can be found here: https://www.kaggle.com/c/titanic/data).\n",
    "\n",
    "First we'll import our dataset into our notebook and assign it to the variable table. \n"
   ]
  },
  {
   "cell_type": "code",
   "execution_count": null,
   "metadata": {
    "Collapsed": "false"
   },
   "outputs": [],
   "source": [
    "import csv\n",
    "import pandas as pd \n",
    "\n",
    "table = pd.read_csv(\"titanic_data.csv\")  # we are assigning the imported csv file to the variable table\n",
    "table"
   ]
  },
  {
   "cell_type": "markdown",
   "metadata": {
    "Collapsed": "false"
   },
   "source": [
    "You're seeing the first and last 5 rows of our dataset so you can see what types of information our spreadsheet has. It's telling us that our dataset has 891 rows (passengers) and 12 columns of information about those passengers, like name, age, ticket price, and whether or not they survived.\n",
    "\n",
    "Let's see we want to see how many unique values there are for the 'Pclass' (passenger class) column. "
   ]
  },
  {
   "cell_type": "code",
   "execution_count": null,
   "metadata": {
    "Collapsed": "false"
   },
   "outputs": [],
   "source": [
    "class_list = pd.unique(table['Pclass'])\n",
    "print(class_list)"
   ]
  },
  {
   "cell_type": "markdown",
   "metadata": {
    "Collapsed": "false"
   },
   "source": [
    "This code gave us a list [1,2,3], telling us that the 'Pclass' column has three possible values for First Class, Second Class, and Third Class passengers.\n",
    "\n",
    "Let's analyze our passengers by class. The Pandas library provides some built-in functions that let us do so quickly.\n",
    "\n",
    "First we are going to group our passengers by class.\n",
    "Then we ask pandas to provide some summary statistics.\n",
    "And then we ask it to give us the mean (average) for any column that has a number in it.\n"
   ]
  },
  {
   "cell_type": "code",
   "execution_count": null,
   "metadata": {
    "Collapsed": "false"
   },
   "outputs": [],
   "source": [
    "# group data table by passenger class\n",
    "grouped_class_data = table.groupby('Pclass')\n",
    "# summary statistics for all numeric columns by class\n",
    "grouped_class_data.describe()\n",
    "# provide the mean for each requested column by class\n",
    "grouped_class_data[['Survived', 'Age', 'Fare']].mean()"
   ]
  },
  {
   "cell_type": "markdown",
   "metadata": {
    "Collapsed": "false"
   },
   "source": [
    "We can quickly see that First Class passengers had a higher survival rate than Third Class passengers. We can also see that First Class passengers tended to be older and paid over four times as much as Second Class passengers. "
   ]
  },
  {
   "cell_type": "markdown",
   "metadata": {
    "Collapsed": "false"
   },
   "source": [
    "Q: How would you calculate survival rate by gender instead of passenger class?"
   ]
  },
  {
   "cell_type": "markdown",
   "metadata": {
    "Collapsed": "false"
   },
   "source": [
    "Now I want to count how many passengers in each category."
   ]
  },
  {
   "cell_type": "code",
   "execution_count": null,
   "metadata": {
    "Collapsed": "false"
   },
   "outputs": [],
   "source": [
    "grouped_sex_data = table.groupby('Sex')\n",
    "# summary statistics for all numeric columns by class\n",
    "grouped_sex_data.describe()\n",
    "# provide the mean for each requested column by class\n",
    "grouped_sex_data.count()"
   ]
  },
  {
   "cell_type": "markdown",
   "metadata": {
    "Collapsed": "false"
   },
   "source": [
    "Our Titantic dataset has 314 female passengers and 577 male passengers.\n",
    "\n",
    "Q: Write code to find out how many passengers in each class."
   ]
  },
  {
   "cell_type": "code",
   "execution_count": null,
   "metadata": {
    "Collapsed": "false"
   },
   "outputs": [],
   "source": [
    "grouped_data = table.groupby('Pclass')\n",
    "grouped_data['Name'].count()"
   ]
  },
  {
   "cell_type": "markdown",
   "metadata": {
    "Collapsed": "false"
   },
   "source": [
    "Here we learned that there were more Third Class passengers than First and Second Class passengers combined."
   ]
  },
  {
   "cell_type": "markdown",
   "metadata": {
    "Collapsed": "false"
   },
   "source": [
    "## Preparing a dataset\n",
    "\n",
    "We would like to make an Omeka collection of photographs from productions of the Vanderbilt University Theatre Department. (https://theatre.library.vanderbilt.edu/). We have a list of plays that we would like to batch import into Omeka as a csv file.\n",
    "\n",
    "Omeka wants our csv file to be formatted in a specific way. In this exercise, we are going to read in the existing file, make some changes to it, and then write the changes to the csv file.\n"
   ]
  },
  {
   "cell_type": "code",
   "execution_count": null,
   "metadata": {
    "Collapsed": "false"
   },
   "outputs": [],
   "source": [
    "import csv\n",
    "import pandas as pd \n",
    "\n",
    "table = pd.read_csv(\"plays.csv\")  # we are assigning the imported csv file to the variable table\n",
    "table"
   ]
  },
  {
   "cell_type": "markdown",
   "metadata": {
    "Collapsed": "false"
   },
   "source": [
    "It looks like our dates are written as M-D-YY or MM-DD-YY and we want them to all be written as YYYY-MM-DD. The YYYY-MM-DD format is standard for cultural heritage and helps avoid confusion between American and non-American dating conventions.\n",
    "\n",
    "Let's first see how it works on a single date."
   ]
  },
  {
   "cell_type": "code",
   "execution_count": null,
   "metadata": {
    "Collapsed": "false"
   },
   "outputs": [],
   "source": [
    "import datetime\n",
    "\n",
    "date_str = \"2/20/14\" \n",
    "new_date = datetime.datetime.strptime(date_str, \"%m/%d/%y\")\n",
    "\n",
    "print(new_date)\n"
   ]
  },
  {
   "cell_type": "markdown",
   "metadata": {
    "Collapsed": "false"
   },
   "source": [
    "Now we want to change all the dates in the 'OpeningDate' and 'ClosingDate' columns to the YYYY-MM-DD format."
   ]
  },
  {
   "cell_type": "code",
   "execution_count": null,
   "metadata": {
    "Collapsed": "false"
   },
   "outputs": [],
   "source": [
    "table['OpeningDate'] = pd.to_datetime(table['OpeningDate'])\n",
    "table['ClosingDate'] = pd.to_datetime(table['ClosingDate'])\n",
    "\n",
    "table"
   ]
  },
  {
   "cell_type": "markdown",
   "metadata": {
    "Collapsed": "false"
   },
   "source": [
    "Notice how the names in the Director column are written as FirstName, LastName. We want to write them as LastName, FirstName so we can alphabetize them.\n",
    "\n",
    "We can use the split string function we learned earlier."
   ]
  },
  {
   "cell_type": "code",
   "execution_count": null,
   "metadata": {
    "Collapsed": "false"
   },
   "outputs": [],
   "source": [
    "# extract the Director column and assign it to the names list variable\n",
    "\n",
    "names = table['Director'].values.tolist()\n",
    "\n",
    "new_names = []\n",
    "\n",
    "for name in names:\n",
    "    try:\n",
    "        # split the name on the space and assign the string \n",
    "        # to the left of the space to first name and \n",
    "        # the string to the right of the space to the last name\n",
    "        \n",
    "        first_name = name.split()[0]\n",
    "        last_name = name.split()[1]    \n",
    "        \n",
    "        # create new full_name field with last_name, first_name format \n",
    "        full_name = last_name + \", \" + first_name\n",
    "        # add it to a list\n",
    "        new_names.append(full_name)\n",
    "    except:\n",
    "        # we have some blanks in the director column\n",
    "        new_names.append(\"n/a\")\n",
    "\n",
    "# then replace Director column with our new list of names\n",
    "table['Director'] = new_names\n",
    "table"
   ]
  },
  {
   "cell_type": "markdown",
   "metadata": {
    "Collapsed": "false"
   },
   "source": [
    "We've changed our date and director fields in the Jupyter notebook, but now we want to export the revised table to a csv file so we can import it into Omeka.\n",
    "\n",
    "The csv library will help us again.\n",
    "\n"
   ]
  },
  {
   "cell_type": "code",
   "execution_count": null,
   "metadata": {
    "Collapsed": "false"
   },
   "outputs": [],
   "source": [
    "table.to_csv('revised_plays.csv',  mode='w', header = True)"
   ]
  },
  {
   "cell_type": "markdown",
   "metadata": {
    "Collapsed": "false"
   },
   "source": [
    "And voila, our csv is now ready to be importing into Omeka."
   ]
  },
  {
   "cell_type": "markdown",
   "metadata": {
    "Collapsed": "false"
   },
   "source": [
    "## Creating unique identifiers\n",
    "\n",
    "Let's say you've been analyzing corresondence and want to keep track of all the letters from various archives you have visisted. You want to assign a unique identifier to each letter that combines the name of the archive with the letter number. Having a unique identifer for each letter will help you keep track and disambiguate any letters with similar metadata. You will also need to have a unique identifer for each item if you are importing into a content management system or digital archive.  \n",
    "\n",
    "Here's an unlikely list of correspondents:"
   ]
  },
  {
   "cell_type": "code",
   "execution_count": null,
   "metadata": {
    "Collapsed": "false"
   },
   "outputs": [],
   "source": [
    "import csv\n",
    "import pandas as pd \n",
    "\n",
    "ltrs = pd.read_csv(\"demoltrs.csv\")  \n",
    "ltrs"
   ]
  },
  {
   "cell_type": "code",
   "execution_count": null,
   "metadata": {
    "Collapsed": "false"
   },
   "outputs": [],
   "source": [
    "ltrs['UniqueID'] = ltrs['Archive'] + \"_\" + ltrs['LetterNo'].astype(str)\n",
    "ltrs"
   ]
  },
  {
   "cell_type": "markdown",
   "metadata": {
    "Collapsed": "false"
   },
   "source": [
    "This example illustrated different variable types. The 'Archive' column is a string, but the 'LetterNo' column is a number. We needed tell Python to read the 'LetterNo' column as a string so we could concatenate it to the 'Archive' column to create our 'UniqueID' field. "
   ]
  },
  {
   "cell_type": "markdown",
   "metadata": {
    "Collapsed": "false"
   },
   "source": [
    "## Next Steps\n",
    "\n",
    "If you have time permitting before our live session, you are welcome to review the following tutorials.\n",
    "\n",
    "The Programming Historian has a 15-part series on learning Python, with an emphasis on web-scraping. Start here: https://programminghistorian.org/en/lessons/introduction-and-installation\n",
    "\n",
    "The Programming Historian offers a more advanced tutorial on using Python to summarize and visualize data on millions of texts from the HathiTrust Research Center’s Extracted Features dataset: https://programminghistorian.org/en/lessons/text-mining-with-extracted-features\n",
    "\n",
    "The Art of Literary Text Analysis is a series of Jupyter notebooks developed in conjunction with a literary text analysis class. They introduce concepts such as analyzing parts of speech, sentiment analysis, topic modelling, collocations, and more. You can find it at this Github repository: https://github.com/sgsinclair/alta/blob/master/ipynb/ArtOfLiteraryTextAnalysis.ipynb\n",
    "\n",
    "General Python lessons from Vanderbilt Library's Digital Scholarship Office: https://heardlibrary.github.io/digital-scholarship/script/python/wg/"
   ]
  },
  {
   "cell_type": "code",
   "execution_count": null,
   "metadata": {
    "Collapsed": "false"
   },
   "outputs": [],
   "source": []
  }
 ],
 "metadata": {
  "kernelspec": {
   "display_name": "Python 3",
   "language": "python",
   "name": "python3"
  },
  "language_info": {
   "codemirror_mode": {
    "name": "ipython",
    "version": 3
   },
   "file_extension": ".py",
   "mimetype": "text/x-python",
   "name": "python",
   "nbconvert_exporter": "python",
   "pygments_lexer": "ipython3",
   "version": "3.7.4"
  }
 },
 "nbformat": 4,
 "nbformat_minor": 4
}
